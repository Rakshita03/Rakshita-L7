{
 "cells": [
  {
   "cell_type": "code",
   "execution_count": null,
   "id": "c31b6d2c-25c4-4b9f-b1a6-dcca2ba004a1",
   "metadata": {},
   "outputs": [
    {
     "name": "stdout",
     "output_type": "stream",
     "text": [
      "\n",
      "Chocolate House Management\n",
      "1. Add Seasonal Flavor\n",
      "2. List Seasonal Flavors\n",
      "3. Add Customer Feedback\n",
      "4. Exit\n"
     ]
    },
    {
     "name": "stdin",
     "output_type": "stream",
     "text": [
      "Enter your choice:  2\n"
     ]
    },
    {
     "name": "stdout",
     "output_type": "stream",
     "text": [
      "ID: 1, Name: Chocolate, Description: Sweet and tasty\n",
      "ID: 2, Name: Chg, Description: syufiw\n",
      "\n",
      "Chocolate House Management\n",
      "1. Add Seasonal Flavor\n",
      "2. List Seasonal Flavors\n",
      "3. Add Customer Feedback\n",
      "4. Exit\n"
     ]
    },
    {
     "name": "stdin",
     "output_type": "stream",
     "text": [
      "Enter your choice:  3\n",
      "Enter your name:  Rakshita\n",
      "Enter your flavor suggestion:  chocolate\n",
      "Enter any allergy concerns:  pimples\n"
     ]
    },
    {
     "name": "stdout",
     "output_type": "stream",
     "text": [
      "Added feedback from Rakshita\n",
      "\n",
      "Chocolate House Management\n",
      "1. Add Seasonal Flavor\n",
      "2. List Seasonal Flavors\n",
      "3. Add Customer Feedback\n",
      "4. Exit\n"
     ]
    },
    {
     "name": "stdin",
     "output_type": "stream",
     "text": [
      "Enter your choice:  3\n"
     ]
    }
   ],
   "source": [
    "import sqlite3\n",
    "\n",
    "# Database Initialization\n",
    "def init_db():\n",
    "    conn = sqlite3.connect('chocolate_house.db')\n",
    "    cursor = conn.cursor()\n",
    "    \n",
    "    # Create tables\n",
    "    cursor.execute('''CREATE TABLE IF NOT EXISTS seasonal_flavors (\n",
    "                        id INTEGER PRIMARY KEY AUTOINCREMENT,\n",
    "                        name TEXT NOT NULL,\n",
    "                        description TEXT\n",
    "                    )''')\n",
    "\n",
    "    cursor.execute('''CREATE TABLE IF NOT EXISTS ingredient_inventory (\n",
    "                        id INTEGER PRIMARY KEY AUTOINCREMENT,\n",
    "                        name TEXT NOT NULL,\n",
    "                        quantity INTEGER NOT NULL\n",
    "                    )''')\n",
    "\n",
    "    cursor.execute('''CREATE TABLE IF NOT EXISTS customer_feedback (\n",
    "                        id INTEGER PRIMARY KEY AUTOINCREMENT,\n",
    "                        name TEXT,\n",
    "                        suggestion TEXT,\n",
    "                        allergy_concern TEXT\n",
    "                    )''')\n",
    "\n",
    "    conn.commit()\n",
    "    conn.close()\n",
    "\n",
    "# CRUD Operations\n",
    "def add_seasonal_flavor(name, description):\n",
    "    conn = sqlite3.connect('chocolate_house.db')\n",
    "    cursor = conn.cursor()\n",
    "    cursor.execute(\"INSERT INTO seasonal_flavors (name, description) VALUES (?, ?)\", (name, description))\n",
    "    conn.commit()\n",
    "    conn.close()\n",
    "    print(f\"Added seasonal flavor: {name}\")\n",
    "\n",
    "def list_seasonal_flavors():\n",
    "    conn = sqlite3.connect('chocolate_house.db')\n",
    "    cursor = conn.cursor()\n",
    "    cursor.execute(\"SELECT * FROM seasonal_flavors\")\n",
    "    flavors = cursor.fetchall()\n",
    "    conn.close()\n",
    "    return flavors\n",
    "\n",
    "def add_customer_feedback(name, suggestion, allergy_concern):\n",
    "    conn = sqlite3.connect('chocolate_house.db')\n",
    "    cursor = conn.cursor()\n",
    "    cursor.execute(\"INSERT INTO customer_feedback (name, suggestion, allergy_concern) VALUES (?, ?, ?)\",\n",
    "                   (name, suggestion, allergy_concern))\n",
    "    conn.commit()\n",
    "    conn.close()\n",
    "    print(f\"Added feedback from {name}\")\n",
    "\n",
    "# Command Line Interface\n",
    "def main():\n",
    "    init_db()\n",
    "    while True:\n",
    "        print(\"\\nChocolate House Management\")\n",
    "        print(\"1. Add Seasonal Flavor\")\n",
    "        print(\"2. List Seasonal Flavors\")\n",
    "        print(\"3. Add Customer Feedback\")\n",
    "        print(\"4. Exit\")\n",
    "\n",
    "        choice = input(\"Enter your choice: \")\n",
    "        if choice == '1':\n",
    "            name = input(\"Enter flavor name: \")\n",
    "            description = input(\"Enter description: \")\n",
    "            add_seasonal_flavor(name, description)\n",
    "        elif choice == '2':\n",
    "            flavors = list_seasonal_flavors()\n",
    "            for flavor in flavors:\n",
    "                print(f\"ID: {flavor[0]}, Name: {flavor[1]}, Description: {flavor[2]}\")\n",
    "        elif choice == '3':\n",
    "            name = input(\"Enter your name: \")\n",
    "            suggestion = input(\"Enter your flavor suggestion: \")\n",
    "            allergy_concern = input(\"Enter any allergy concerns: \")\n",
    "            add_customer_feedback(name, suggestion, allergy_concern)\n",
    "        elif choice == '4':\n",
    "            print(\"Goodbye!\")\n",
    "            break\n",
    "        else:\n",
    "            print(\"Invalid choice. Please try again.\")\n",
    "\n",
    "if __name__ == \"__main__\":\n",
    "    main()\n"
   ]
  },
  {
   "cell_type": "code",
   "execution_count": null,
   "id": "1c397922-6dd8-42c5-874f-10ab313d63c7",
   "metadata": {},
   "outputs": [],
   "source": []
  },
  {
   "cell_type": "code",
   "execution_count": null,
   "id": "0e0eea93-f950-4b0b-8fed-0d09965af14d",
   "metadata": {},
   "outputs": [],
   "source": []
  }
 ],
 "metadata": {
  "kernelspec": {
   "display_name": "anaconda-panel-2023.05-py310",
   "language": "python",
   "name": "conda-env-anaconda-panel-2023.05-py310-py"
  },
  "language_info": {
   "codemirror_mode": {
    "name": "ipython",
    "version": 3
   },
   "file_extension": ".py",
   "mimetype": "text/x-python",
   "name": "python",
   "nbconvert_exporter": "python",
   "pygments_lexer": "ipython3",
   "version": "3.11.5"
  }
 },
 "nbformat": 4,
 "nbformat_minor": 5
}
