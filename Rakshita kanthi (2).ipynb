{
 "cells": [
  {
   "cell_type": "code",
   "execution_count": null,
   "id": "c31b6d2c-25c4-4b9f-b1a6-dcca2ba004a1",
   "metadata": {},
   "outputs": [
    {
     "name": "stdout",
     "output_type": "stream",
     "text": [
      "\n",
      "Chocolate House Management\n",
      "1. Add Seasonal Flavor\n",
      "2. List Seasonal Flavors\n",
      "3. Add Customer Feedback\n",
      "4. Exit\n"
     ]
    },
    {
     "name": "stdin",
     "output_type": "stream",
     "text": [
      "Enter your choice:  1\n",
      "Enter flavor name:  Chocolate\n",
      "Enter description:  Sweet and Tasty\n"
     ]
    },
    {
     "name": "stdout",
     "output_type": "stream",
     "text": [
      "Added seasonal flavor: Chocolate\n",
      "\n",
      "Chocolate House Management\n",
      "1. Add Seasonal Flavor\n",
      "2. List Seasonal Flavors\n",
      "3. Add Customer Feedback\n",
      "4. Exit\n"
     ]
    },
    {
     "name": "stdin",
     "output_type": "stream",
     "text": [
      "Enter your choice:  2\n"
     ]
    },
    {
     "name": "stdout",
     "output_type": "stream",
     "text": [
      "ID: 1, Name: Chocolate, Description: Sweet and tasty\n",
      "ID: 2, Name: Chg, Description: syufiw\n",
      "ID: 3, Name: Chocolate, Description: Sweet and Tasty\n",
      "\n",
      "Chocolate House Management\n",
      "1. Add Seasonal Flavor\n",
      "2. List Seasonal Flavors\n",
      "3. Add Customer Feedback\n",
      "4. Exit\n"
     ]
    },
    {
     "name": "stdin",
     "output_type": "stream",
     "text": [
      "Enter your choice:  3\n",
      "Enter your name:  Rakshita\n",
      "Enter your flavor suggestion:  lookiduyry\n",
      "Enter any allergy concerns:  rashes\n"
     ]
    },
    {
     "name": "stdout",
     "output_type": "stream",
     "text": [
      "Added feedback from Rakshita\n",
      "\n",
      "Chocolate House Management\n",
      "1. Add Seasonal Flavor\n",
      "2. List Seasonal Flavors\n",
      "3. Add Customer Feedback\n",
      "4. Exit\n"
     ]
    }
   ],
   "source": [
    "import sqlite3\n",
    "\n",
    "def init_db():\n",
    "    conn = sqlite3.connect('chocolate_house.db')\n",
    "    cursor = conn.cursor()\n",
    "    cursor.execute('''CREATE TABLE IF NOT EXISTS seasonal_flavors (\n",
    "                        id INTEGER PRIMARY KEY AUTOINCREMENT,\n",
    "                        name TEXT NOT NULL,\n",
    "                        description TEXT)''')\n",
    "    cursor.execute('''CREATE TABLE IF NOT EXISTS ingredient_inventory (\n",
    "                        id INTEGER PRIMARY KEY AUTOINCREMENT,\n",
    "                        name TEXT NOT NULL,\n",
    "                        quantity INTEGER NOT NULL)''')\n",
    "    cursor.execute('''CREATE TABLE IF NOT EXISTS customer_feedback (\n",
    "                        id INTEGER PRIMARY KEY AUTOINCREMENT,\n",
    "                        name TEXT,\n",
    "                        suggestion TEXT,\n",
    "                        allergy_concern TEXT)''')\n",
    "    conn.commit()\n",
    "    conn.close()\n",
    "\n",
    "def add_seasonal_flavor(name, description):\n",
    "    conn = sqlite3.connect('chocolate_house.db')\n",
    "    conn.execute(\"INSERT INTO seasonal_flavors (name, description) VALUES (?, ?)\", (name, description))\n",
    "    conn.commit()\n",
    "    conn.close()\n",
    "    print(f\"Added seasonal flavor: {name}\")\n",
    "\n",
    "def list_seasonal_flavors():\n",
    "    conn = sqlite3.connect('chocolate_house.db')\n",
    "    flavors = conn.execute(\"SELECT * FROM seasonal_flavors\").fetchall()\n",
    "    conn.close()\n",
    "    return flavors\n",
    "\n",
    "def add_customer_feedback(name, suggestion, allergy_concern):\n",
    "    conn = sqlite3.connect('chocolate_house.db')\n",
    "    conn.execute(\"INSERT INTO customer_feedback (name, suggestion, allergy_concern) VALUES (?, ?, ?)\",\n",
    "                 (name, suggestion, allergy_concern))\n",
    "    conn.commit()\n",
    "    conn.close()\n",
    "    print(f\"Added feedback from {name}\")\n",
    "\n",
    "def main():\n",
    "    init_db()\n",
    "    while True:\n",
    "        print(\"\\nChocolate House Management\")\n",
    "        print(\"1. Add Seasonal Flavor\\n2. List Seasonal Flavors\\n3. Add Customer Feedback\\n4. Exit\")\n",
    "        choice = input(\"Enter your choice: \")\n",
    "        if choice == '1':\n",
    "            add_seasonal_flavor(input(\"Enter flavor name: \"), input(\"Enter description: \"))\n",
    "        elif choice == '2':\n",
    "            for f in list_seasonal_flavors():\n",
    "                print(f\"ID: {f[0]}, Name: {f[1]}, Description: {f[2]}\")\n",
    "        elif choice == '3':\n",
    "            add_customer_feedback(input(\"Enter your name: \"), input(\"Enter your flavor suggestion: \"),\n",
    "                                  input(\"Enter any allergy concerns: \"))\n",
    "        elif choice == '4':\n",
    "            print(\"Goodbye!\")\n",
    "            break\n",
    "        else:\n",
    "            print(\"Invalid choice. Please try again.\")\n",
    "\n",
    "if __name__ == \"__main__\":\n",
    "    main()\n"
   ]
  },
  {
   "cell_type": "code",
   "execution_count": null,
   "id": "9c474b77-b553-4b8a-b6a2-f6859ed63469",
   "metadata": {},
   "outputs": [],
   "source": []
  }
 ],
 "metadata": {
  "kernelspec": {
   "display_name": "anaconda-panel-2023.05-py310",
   "language": "python",
   "name": "conda-env-anaconda-panel-2023.05-py310-py"
  },
  "language_info": {
   "codemirror_mode": {
    "name": "ipython",
    "version": 3
   },
   "file_extension": ".py",
   "mimetype": "text/x-python",
   "name": "python",
   "nbconvert_exporter": "python",
   "pygments_lexer": "ipython3",
   "version": "3.11.5"
  }
 },
 "nbformat": 4,
 "nbformat_minor": 5
}
